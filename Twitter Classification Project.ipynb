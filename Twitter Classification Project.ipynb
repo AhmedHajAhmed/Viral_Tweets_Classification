{
 "cells": [
  {
   "cell_type": "markdown",
   "id": "5360365b",
   "metadata": {},
   "source": [
    "# Twitter Classification Project"
   ]
  },
  {
   "cell_type": "markdown",
   "id": "87f92bbb",
   "metadata": {},
   "source": [
    "In this project, I am going to use the K-Nearest Neighbor algorithm to predict whether a tweet will go viral. Before going into using the classifier, let's first consider the problem I'm trying to solve. Which features of a tweet are most closely linked to its popularity? Probably the length of the tweet strongly influences its popularity. Probably its virality is dependent on how many followers the person has. \n",
    "\n",
    "Let's explore these options by looking at the data available:\n",
    "\n",
    "* The total number of tweets in the dataset.\n",
    "* The columns, or features, of the dataset.\n",
    "* The text of the first tweet in the dataset.\n"
   ]
  },
  {
   "cell_type": "code",
   "execution_count": 2,
   "id": "c230f0db",
   "metadata": {},
   "outputs": [],
   "source": [
    "import pandas as pd \n",
    "\n",
    "all_tweets = pd.read_json(\"random_tweets.json\", lines=True)"
   ]
  },
  {
   "cell_type": "markdown",
   "id": "b8818c69",
   "metadata": {},
   "source": [
    "The total number of tweets in the dataset:"
   ]
  },
  {
   "cell_type": "code",
   "execution_count": 3,
   "id": "7ececd60",
   "metadata": {},
   "outputs": [
    {
     "data": {
      "text/plain": [
       "11099"
      ]
     },
     "execution_count": 3,
     "metadata": {},
     "output_type": "execute_result"
    }
   ],
   "source": [
    "len(all_tweets)"
   ]
  },
  {
   "cell_type": "markdown",
   "id": "7ab5c945",
   "metadata": {},
   "source": [
    "The features of the dataset:"
   ]
  },
  {
   "cell_type": "code",
   "execution_count": 4,
   "id": "854d01d7",
   "metadata": {},
   "outputs": [
    {
     "data": {
      "text/plain": [
       "Index(['created_at', 'id', 'id_str', 'text', 'truncated', 'entities',\n",
       "       'metadata', 'source', 'in_reply_to_status_id',\n",
       "       'in_reply_to_status_id_str', 'in_reply_to_user_id',\n",
       "       'in_reply_to_user_id_str', 'in_reply_to_screen_name', 'user', 'geo',\n",
       "       'coordinates', 'place', 'contributors', 'retweeted_status',\n",
       "       'is_quote_status', 'retweet_count', 'favorite_count', 'favorited',\n",
       "       'retweeted', 'lang', 'possibly_sensitive', 'quoted_status_id',\n",
       "       'quoted_status_id_str', 'extended_entities', 'quoted_status',\n",
       "       'withheld_in_countries'],\n",
       "      dtype='object')"
      ]
     },
     "execution_count": 4,
     "metadata": {},
     "output_type": "execute_result"
    }
   ],
   "source": [
    "all_tweets.columns"
   ]
  },
  {
   "cell_type": "markdown",
   "id": "138760d0",
   "metadata": {},
   "source": [
    "The text of the first tweet in the dataset:"
   ]
  },
  {
   "cell_type": "code",
   "execution_count": 5,
   "id": "e1514cef",
   "metadata": {},
   "outputs": [
    {
     "data": {
      "text/plain": [
       "'RT @KWWLStormTrack7: We are more than a month into summer but the days are getting shorter. The sunrise is about 25 minutes later on July 3…'"
      ]
     },
     "execution_count": 5,
     "metadata": {},
     "output_type": "execute_result"
    }
   ],
   "source": [
    "all_tweets.loc[0][\"text\"]"
   ]
  },
  {
   "cell_type": "markdown",
   "id": "e7163510",
   "metadata": {},
   "source": [
    "Note: some of these features are dictionaries. For example, the feature `user` is a dictionary. Let's see what the `user` feature looks like."
   ]
  },
  {
   "cell_type": "code",
   "execution_count": 6,
   "id": "744b2cce",
   "metadata": {},
   "outputs": [
    {
     "data": {
      "text/plain": [
       "{'id': 145388018,\n",
       " 'id_str': '145388018',\n",
       " 'name': 'Derek Wolkenhauer',\n",
       " 'screen_name': 'derekw221',\n",
       " 'location': 'Waterloo, Iowa',\n",
       " 'description': '',\n",
       " 'url': None,\n",
       " 'entities': {'description': {'urls': []}},\n",
       " 'protected': False,\n",
       " 'followers_count': 215,\n",
       " 'friends_count': 335,\n",
       " 'listed_count': 2,\n",
       " 'created_at': 'Tue May 18 21:30:10 +0000 2010',\n",
       " 'favourites_count': 3419,\n",
       " 'utc_offset': None,\n",
       " 'time_zone': None,\n",
       " 'geo_enabled': True,\n",
       " 'verified': False,\n",
       " 'statuses_count': 4475,\n",
       " 'lang': 'en',\n",
       " 'contributors_enabled': False,\n",
       " 'is_translator': False,\n",
       " 'is_translation_enabled': False,\n",
       " 'profile_background_color': '022330',\n",
       " 'profile_background_image_url': 'http://abs.twimg.com/images/themes/theme15/bg.png',\n",
       " 'profile_background_image_url_https': 'https://abs.twimg.com/images/themes/theme15/bg.png',\n",
       " 'profile_background_tile': False,\n",
       " 'profile_image_url': 'http://pbs.twimg.com/profile_images/995790590276243456/cgxRVviN_normal.jpg',\n",
       " 'profile_image_url_https': 'https://pbs.twimg.com/profile_images/995790590276243456/cgxRVviN_normal.jpg',\n",
       " 'profile_banner_url': 'https://pbs.twimg.com/profile_banners/145388018/1494937921',\n",
       " 'profile_link_color': '0084B4',\n",
       " 'profile_sidebar_border_color': 'A8C7F7',\n",
       " 'profile_sidebar_fill_color': 'C0DFEC',\n",
       " 'profile_text_color': '333333',\n",
       " 'profile_use_background_image': True,\n",
       " 'has_extended_profile': True,\n",
       " 'default_profile': False,\n",
       " 'default_profile_image': False,\n",
       " 'following': False,\n",
       " 'follow_request_sent': False,\n",
       " 'notifications': False,\n",
       " 'translator_type': 'none'}"
      ]
     },
     "execution_count": 6,
     "metadata": {},
     "output_type": "execute_result"
    }
   ],
   "source": [
    "all_tweets.loc[0][\"user\"]"
   ]
  },
  {
   "cell_type": "markdown",
   "id": "e885aea8",
   "metadata": {},
   "source": [
    "Let's try printing just the `location` found in that `user` dictionary."
   ]
  },
  {
   "cell_type": "code",
   "execution_count": 7,
   "id": "d99d85b6",
   "metadata": {},
   "outputs": [
    {
     "data": {
      "text/plain": [
       "'Waterloo, Iowa'"
      ]
     },
     "execution_count": 7,
     "metadata": {},
     "output_type": "execute_result"
    }
   ],
   "source": [
    "all_tweets.loc[0][\"user\"][\"location\"]"
   ]
  },
  {
   "cell_type": "markdown",
   "id": "4f30d5fd",
   "metadata": {},
   "source": [
    "### Defining Viral Tweets\n",
    "\n",
    "Since I will use a K-Nearest Neighbor classifier, which is a supervised machine learning algorithm, I need to have a dataset with tagged labels. For this situation, I need a dataset where every tweet is marked as viral or not viral. Unfortunately, this isn't a feature of our dataset. Thus, I will create this feature.\n",
    "\n",
    "So how do we define a viral tweet? A good place to start is to look at the number of retweets the tweet has.\n",
    "\n",
    "I will create a new column, `is_viral`, that is a \"1\" if the tweet had more than 10 retweets and \"0\" otherwise."
   ]
  },
  {
   "cell_type": "code",
   "execution_count": 9,
   "id": "4a9624ea",
   "metadata": {},
   "outputs": [
    {
     "data": {
      "text/plain": [
       "0        0\n",
       "1        0\n",
       "2        0\n",
       "3        1\n",
       "4        0\n",
       "        ..\n",
       "11094    1\n",
       "11095    1\n",
       "11096    0\n",
       "11097    0\n",
       "11098    0\n",
       "Name: is_viral, Length: 11099, dtype: int32"
      ]
     },
     "execution_count": 9,
     "metadata": {},
     "output_type": "execute_result"
    }
   ],
   "source": [
    "import numpy as np\n",
    "\n",
    "all_tweets[\"is_viral\"] = np.where(all_tweets[\"retweet_count\"] > 10, 1, 0)\n",
    "\n",
    "all_tweets[\"is_viral\"]"
   ]
  },
  {
   "cell_type": "markdown",
   "id": "6544239a",
   "metadata": {},
   "source": [
    "However, instead of using 10 as the benchmark for a viral tweet, it would be better to use the median number of retweets. "
   ]
  },
  {
   "cell_type": "code",
   "execution_count": 10,
   "id": "a611569d",
   "metadata": {},
   "outputs": [
    {
     "data": {
      "text/plain": [
       "13.0"
      ]
     },
     "execution_count": 10,
     "metadata": {},
     "output_type": "execute_result"
    }
   ],
   "source": [
    "median_retweets = all_tweets[\"retweet_count\"].median()\n",
    "\n",
    "median_retweets"
   ]
  },
  {
   "cell_type": "code",
   "execution_count": 11,
   "id": "2ce741a4",
   "metadata": {},
   "outputs": [
    {
     "data": {
      "text/plain": [
       "0        0\n",
       "1        0\n",
       "2        0\n",
       "3        1\n",
       "4        0\n",
       "        ..\n",
       "11094    1\n",
       "11095    1\n",
       "11096    0\n",
       "11097    0\n",
       "11098    0\n",
       "Name: is_viral, Length: 11099, dtype: int32"
      ]
     },
     "execution_count": 11,
     "metadata": {},
     "output_type": "execute_result"
    }
   ],
   "source": [
    "all_tweets[\"is_viral\"] = np.where(all_tweets[\"retweet_count\"] >= median_retweets, 1, 0)\n",
    "\n",
    "all_tweets[\"is_viral\"]"
   ]
  },
  {
   "cell_type": "markdown",
   "id": "551517d3",
   "metadata": {},
   "source": [
    "Let's see how many viral tweets we have:"
   ]
  },
  {
   "cell_type": "code",
   "execution_count": 12,
   "id": "8ac47aed",
   "metadata": {},
   "outputs": [
    {
     "data": {
      "text/plain": [
       "1    5591\n",
       "0    5508\n",
       "Name: is_viral, dtype: int64"
      ]
     },
     "execution_count": 12,
     "metadata": {},
     "output_type": "execute_result"
    }
   ],
   "source": [
    "all_tweets['is_viral'].value_counts()"
   ]
  },
  {
   "cell_type": "markdown",
   "id": "464b8ae6",
   "metadata": {},
   "source": [
    "### Making Features\n",
    "\n",
    "Which features might determine whether a tweet is viral? "
   ]
  },
  {
   "cell_type": "markdown",
   "id": "9d5fffcd",
   "metadata": {},
   "source": [
    "I believe the length of the tweet might be a valuable feature. Let's create a new column, `tweet_lenght`:"
   ]
  },
  {
   "cell_type": "code",
   "execution_count": 13,
   "id": "2f5f455f",
   "metadata": {},
   "outputs": [
    {
     "data": {
      "text/plain": [
       "0        140\n",
       "1         77\n",
       "2        140\n",
       "3        140\n",
       "4        140\n",
       "        ... \n",
       "11094    140\n",
       "11095     75\n",
       "11096    140\n",
       "11097    140\n",
       "11098     75\n",
       "Name: tweet_length, Length: 11099, dtype: int64"
      ]
     },
     "execution_count": 13,
     "metadata": {},
     "output_type": "execute_result"
    }
   ],
   "source": [
    "all_tweets[\"tweet_length\"] = all_tweets.apply(lambda x: len(x[\"text\"]), axis=1)\n",
    "\n",
    "all_tweets[\"tweet_length\"]"
   ]
  },
  {
   "cell_type": "markdown",
   "id": "cc6c8539",
   "metadata": {},
   "source": [
    "Also, the number of followers might be an important feature:"
   ]
  },
  {
   "cell_type": "code",
   "execution_count": 14,
   "id": "537beb93",
   "metadata": {},
   "outputs": [
    {
     "data": {
      "text/plain": [
       "0         215\n",
       "1         199\n",
       "2         196\n",
       "3        3313\n",
       "4         125\n",
       "         ... \n",
       "11094     509\n",
       "11095     462\n",
       "11096     135\n",
       "11097      59\n",
       "11098    1563\n",
       "Name: followers_count, Length: 11099, dtype: int64"
      ]
     },
     "execution_count": 14,
     "metadata": {},
     "output_type": "execute_result"
    }
   ],
   "source": [
    "all_tweets[\"followers_count\"] = all_tweets.apply(lambda x: x[\"user\"][\"followers_count\"], axis=1)\n",
    "\n",
    "all_tweets[\"followers_count\"]"
   ]
  },
  {
   "cell_type": "markdown",
   "id": "161fd494",
   "metadata": {},
   "source": [
    "Additionally, the number of friends would be important:"
   ]
  },
  {
   "cell_type": "code",
   "execution_count": 15,
   "id": "21102b45",
   "metadata": {},
   "outputs": [
    {
     "data": {
      "text/plain": [
       "0         335\n",
       "1         203\n",
       "2         558\n",
       "3        2272\n",
       "4         273\n",
       "         ... \n",
       "11094    1323\n",
       "11095    1033\n",
       "11096      90\n",
       "11097     320\n",
       "11098    1697\n",
       "Name: friends_count, Length: 11099, dtype: int64"
      ]
     },
     "execution_count": 15,
     "metadata": {},
     "output_type": "execute_result"
    }
   ],
   "source": [
    "all_tweets[\"friends_count\"] = all_tweets.apply(lambda x: x[\"user\"][\"friends_count\"], axis=1)\n",
    "\n",
    "all_tweets[\"friends_count\"]"
   ]
  },
  {
   "cell_type": "markdown",
   "id": "0f9ec9e4",
   "metadata": {},
   "source": [
    "For now, I will be using these three features, but I might have to consider some of the following potential features:\n",
    "\n",
    "* The number of hashtags in the tweet.\n",
    "* The number of links in the tweet.\n",
    "* The number of words in the tweet. \n",
    "* The average length of the words in the tweet."
   ]
  },
  {
   "cell_type": "markdown",
   "id": "3ccfc508",
   "metadata": {},
   "source": [
    "### Normalizing Data\n",
    "\n",
    "Create `labels`:"
   ]
  },
  {
   "cell_type": "code",
   "execution_count": 16,
   "id": "1c3cceac",
   "metadata": {},
   "outputs": [],
   "source": [
    "labels = all_tweets[\"is_viral\"]"
   ]
  },
  {
   "cell_type": "markdown",
   "id": "7dc0f663",
   "metadata": {},
   "source": [
    "Create `data`, which includes the features `tweet_length`, `followers_count`, and `friends_count`:"
   ]
  },
  {
   "cell_type": "code",
   "execution_count": 17,
   "id": "0a48b00f",
   "metadata": {},
   "outputs": [],
   "source": [
    "data = all_tweets[[\"tweet_length\", \"followers_count\", \"friends_count\"]]"
   ]
  },
  {
   "cell_type": "markdown",
   "id": "6aab835c",
   "metadata": {},
   "source": [
    "Create `scaled_data` to normalize the data so all of the features will vary within the same range:"
   ]
  },
  {
   "cell_type": "code",
   "execution_count": 18,
   "id": "321a022d",
   "metadata": {},
   "outputs": [
    {
     "data": {
      "text/plain": [
       "array([[ 0.6164054 , -0.02878298, -0.14483305],\n",
       "       [-1.64577622, -0.02886246, -0.16209787],\n",
       "       [ 0.6164054 , -0.02887736, -0.11566596],\n",
       "       ...,\n",
       "       [ 0.6164054 , -0.02918038, -0.1768776 ],\n",
       "       [ 0.6164054 , -0.02955792, -0.14679496],\n",
       "       [-1.71759151, -0.02208668,  0.0333085 ]])"
      ]
     },
     "execution_count": 18,
     "metadata": {},
     "output_type": "execute_result"
    }
   ],
   "source": [
    "from sklearn.preprocessing import scale\n",
    "\n",
    "scaled_data = scale(data, axis=0) # 0 to scale the columns as opposed to the rows\n",
    "\n",
    "scaled_data"
   ]
  },
  {
   "cell_type": "markdown",
   "id": "f010765c",
   "metadata": {},
   "source": [
    "### Creating the Training and Testing Sets\n"
   ]
  },
  {
   "cell_type": "code",
   "execution_count": 19,
   "id": "b2802e58",
   "metadata": {},
   "outputs": [],
   "source": [
    "from sklearn.model_selection import train_test_split \n",
    "\n",
    "train_data, test_data, train_label, test_label = train_test_split(scaled_data, labels, test_size=0.2, random_state=1)"
   ]
  },
  {
   "cell_type": "markdown",
   "id": "d05659a6",
   "metadata": {},
   "source": [
    "### Using the Classifier\n",
    "\n",
    "Now let's use the K-Nearest Neighbor classifier. Let's first test it with k = 5:"
   ]
  },
  {
   "cell_type": "code",
   "execution_count": 20,
   "id": "5276ce97",
   "metadata": {},
   "outputs": [
    {
     "data": {
      "text/plain": [
       "KNeighborsClassifier()"
      ]
     },
     "execution_count": 20,
     "metadata": {},
     "output_type": "execute_result"
    }
   ],
   "source": [
    "from sklearn.neighbors import KNeighborsClassifier\n",
    "\n",
    "classifier = KNeighborsClassifier(n_neighbors = 5)\n",
    "\n",
    "classifier.fit(train_data, train_label)"
   ]
  },
  {
   "cell_type": "markdown",
   "id": "90b4eff6",
   "metadata": {},
   "source": [
    "Test the model:"
   ]
  },
  {
   "cell_type": "code",
   "execution_count": 21,
   "id": "325fd6b9",
   "metadata": {},
   "outputs": [
    {
     "data": {
      "text/plain": [
       "0.5905405405405405"
      ]
     },
     "execution_count": 21,
     "metadata": {},
     "output_type": "execute_result"
    }
   ],
   "source": [
    "classifier.score(test_data, test_label)"
   ]
  },
  {
   "cell_type": "markdown",
   "id": "1549d358",
   "metadata": {},
   "source": [
    "I tested the classifier with k = 5. However, there might be another \"k\" that will work better. Let's test different values for \"k\"\n"
   ]
  },
  {
   "cell_type": "code",
   "execution_count": 22,
   "id": "76008196",
   "metadata": {},
   "outputs": [],
   "source": [
    "scores = []\n",
    "\n",
    "for k in range(1, 200):\n",
    "    classifier = KNeighborsClassifier(n_neighbors = k)\n",
    "    classifier.fit(train_data, train_label)\n",
    "    scores.append(classifier.score(test_data, test_label))\n",
    "    "
   ]
  },
  {
   "cell_type": "code",
   "execution_count": 24,
   "id": "07399056",
   "metadata": {},
   "outputs": [
    {
     "data": {
      "text/plain": [
       "[0.5684684684684684,\n",
       " 0.5490990990990992,\n",
       " 0.5869369369369369,\n",
       " 0.5797297297297297,\n",
       " 0.5905405405405405,\n",
       " 0.590990990990991,\n",
       " 0.6013513513513513,\n",
       " 0.5878378378378378,\n",
       " 0.6067567567567568,\n",
       " 0.6004504504504504,\n",
       " 0.618018018018018,\n",
       " 0.6144144144144145,\n",
       " 0.613063063063063,\n",
       " 0.6063063063063063,\n",
       " 0.6166666666666667,\n",
       " 0.6013513513513513,\n",
       " 0.6148648648648649,\n",
       " 0.6085585585585586,\n",
       " 0.613063063063063,\n",
       " 0.6085585585585586,\n",
       " 0.6144144144144145,\n",
       " 0.6148648648648649,\n",
       " 0.6207207207207207,\n",
       " 0.6166666666666667,\n",
       " 0.6225225225225225,\n",
       " 0.6198198198198198,\n",
       " 0.6243243243243243,\n",
       " 0.6216216216216216,\n",
       " 0.6234234234234234,\n",
       " 0.6157657657657658,\n",
       " 0.6189189189189189,\n",
       " 0.6162162162162163,\n",
       " 0.6184684684684685,\n",
       " 0.6148648648648649,\n",
       " 0.6198198198198198,\n",
       " 0.6202702702702703,\n",
       " 0.6184684684684685,\n",
       " 0.6153153153153154,\n",
       " 0.6198198198198198,\n",
       " 0.6216216216216216,\n",
       " 0.6198198198198198,\n",
       " 0.6135135135135135,\n",
       " 0.6162162162162163,\n",
       " 0.6157657657657658,\n",
       " 0.6153153153153154,\n",
       " 0.6189189189189189,\n",
       " 0.618018018018018,\n",
       " 0.6171171171171171,\n",
       " 0.622072072072072,\n",
       " 0.6211711711711712,\n",
       " 0.618018018018018,\n",
       " 0.6184684684684685,\n",
       " 0.6202702702702703,\n",
       " 0.6175675675675676,\n",
       " 0.6234234234234234,\n",
       " 0.6184684684684685,\n",
       " 0.6238738738738738,\n",
       " 0.6207207207207207,\n",
       " 0.6202702702702703,\n",
       " 0.6171171171171171,\n",
       " 0.6184684684684685,\n",
       " 0.6202702702702703,\n",
       " 0.6207207207207207,\n",
       " 0.6171171171171171,\n",
       " 0.6225225225225225,\n",
       " 0.6198198198198198,\n",
       " 0.6225225225225225,\n",
       " 0.6216216216216216,\n",
       " 0.6193693693693694,\n",
       " 0.6198198198198198,\n",
       " 0.6207207207207207,\n",
       " 0.6171171171171171,\n",
       " 0.6184684684684685,\n",
       " 0.6157657657657658,\n",
       " 0.6175675675675676,\n",
       " 0.6175675675675676,\n",
       " 0.6148648648648649,\n",
       " 0.6162162162162163,\n",
       " 0.613063063063063,\n",
       " 0.6144144144144145,\n",
       " 0.6148648648648649,\n",
       " 0.6148648648648649,\n",
       " 0.6121621621621621,\n",
       " 0.613063063063063,\n",
       " 0.6126126126126126,\n",
       " 0.6117117117117117,\n",
       " 0.6108108108108108,\n",
       " 0.613063063063063,\n",
       " 0.6153153153153154,\n",
       " 0.6126126126126126,\n",
       " 0.6126126126126126,\n",
       " 0.6112612612612612,\n",
       " 0.6099099099099099,\n",
       " 0.6099099099099099,\n",
       " 0.6126126126126126,\n",
       " 0.6099099099099099,\n",
       " 0.6126126126126126,\n",
       " 0.6144144144144145,\n",
       " 0.6135135135135135,\n",
       " 0.6148648648648649,\n",
       " 0.6148648648648649,\n",
       " 0.6157657657657658,\n",
       " 0.6153153153153154,\n",
       " 0.6139639639639639,\n",
       " 0.6157657657657658,\n",
       " 0.6144144144144145,\n",
       " 0.6148648648648649,\n",
       " 0.6157657657657658,\n",
       " 0.618018018018018,\n",
       " 0.6162162162162163,\n",
       " 0.6162162162162163,\n",
       " 0.6162162162162163,\n",
       " 0.6162162162162163,\n",
       " 0.6135135135135135,\n",
       " 0.6144144144144145,\n",
       " 0.6148648648648649,\n",
       " 0.6148648648648649,\n",
       " 0.6148648648648649,\n",
       " 0.6175675675675676,\n",
       " 0.6175675675675676,\n",
       " 0.6171171171171171,\n",
       " 0.6184684684684685,\n",
       " 0.6175675675675676,\n",
       " 0.6175675675675676,\n",
       " 0.6153153153153154,\n",
       " 0.6144144144144145,\n",
       " 0.6126126126126126,\n",
       " 0.6148648648648649,\n",
       " 0.6112612612612612,\n",
       " 0.6103603603603603,\n",
       " 0.6099099099099099,\n",
       " 0.613063063063063,\n",
       " 0.6126126126126126,\n",
       " 0.6121621621621621,\n",
       " 0.6112612612612612,\n",
       " 0.6099099099099099,\n",
       " 0.6108108108108108,\n",
       " 0.6103603603603603,\n",
       " 0.6081081081081081,\n",
       " 0.6108108108108108,\n",
       " 0.6103603603603603,\n",
       " 0.6112612612612612,\n",
       " 0.6094594594594595,\n",
       " 0.609009009009009,\n",
       " 0.6081081081081081,\n",
       " 0.6094594594594595,\n",
       " 0.6103603603603603,\n",
       " 0.6112612612612612,\n",
       " 0.6085585585585586,\n",
       " 0.6112612612612612,\n",
       " 0.6108108108108108,\n",
       " 0.6112612612612612,\n",
       " 0.6099099099099099,\n",
       " 0.6085585585585586,\n",
       " 0.6085585585585586,\n",
       " 0.6085585585585586,\n",
       " 0.6085585585585586,\n",
       " 0.6058558558558559,\n",
       " 0.6067567567567568,\n",
       " 0.6054054054054054,\n",
       " 0.6063063063063063,\n",
       " 0.6067567567567568,\n",
       " 0.6063063063063063,\n",
       " 0.6072072072072072,\n",
       " 0.6072072072072072,\n",
       " 0.6063063063063063,\n",
       " 0.6054054054054054,\n",
       " 0.6063063063063063,\n",
       " 0.6045045045045045,\n",
       " 0.6045045045045045,\n",
       " 0.6045045045045045,\n",
       " 0.6063063063063063,\n",
       " 0.6063063063063063,\n",
       " 0.6058558558558559,\n",
       " 0.6063063063063063,\n",
       " 0.6058558558558559,\n",
       " 0.604954954954955,\n",
       " 0.604954954954955,\n",
       " 0.6058558558558559,\n",
       " 0.6054054054054054,\n",
       " 0.6054054054054054,\n",
       " 0.6058558558558559,\n",
       " 0.604954954954955,\n",
       " 0.6054054054054054,\n",
       " 0.6067567567567568,\n",
       " 0.6058558558558559,\n",
       " 0.604954954954955,\n",
       " 0.6063063063063063,\n",
       " 0.6058558558558559,\n",
       " 0.6045045045045045,\n",
       " 0.6054054054054054,\n",
       " 0.604954954954955,\n",
       " 0.6054054054054054,\n",
       " 0.6054054054054054,\n",
       " 0.6054054054054054,\n",
       " 0.6063063063063063,\n",
       " 0.6058558558558559,\n",
       " 0.6058558558558559,\n",
       " 0.6076576576576577]"
      ]
     },
     "execution_count": 24,
     "metadata": {},
     "output_type": "execute_result"
    }
   ],
   "source": [
    "scores"
   ]
  },
  {
   "cell_type": "markdown",
   "id": "16e7e033",
   "metadata": {},
   "source": [
    "Plot the scores:"
   ]
  },
  {
   "cell_type": "code",
   "execution_count": 25,
   "id": "db1cdd72",
   "metadata": {},
   "outputs": [
    {
     "data": {
      "image/png": "[encoded data removed]",
      "text/plain": [
       "<Figure size 432x288 with 1 Axes>"
      ]
     },
     "metadata": {
      "needs_background": "light"
     },
     "output_type": "display_data"
    }
   ],
   "source": [
    "import matplotlib.pyplot as plt\n",
    "\n",
    "plt.plot(scores)\n",
    "plt.show()"
   ]
  },
  {
   "cell_type": "markdown",
   "id": "822beb4b",
   "metadata": {},
   "source": [
    "What is the accuracy of the model:"
   ]
  },
  {
   "cell_type": "code",
   "execution_count": 26,
   "id": "9db7e096",
   "metadata": {},
   "outputs": [
    {
     "data": {
      "text/plain": [
       "0.6243243243243243"
      ]
     },
     "execution_count": 26,
     "metadata": {},
     "output_type": "execute_result"
    }
   ],
   "source": [
    "max(scores)"
   ]
  },
  {
   "cell_type": "markdown",
   "id": "e08d70a1",
   "metadata": {},
   "source": [
    "By using the features `tweet_length`, `followers_count`, and `friends_count`, I was able to get up to around 62% accuracy. \n",
    "\n",
    "Can we find some different features that perform better?"
   ]
  },
  {
   "cell_type": "markdown",
   "id": "0569efa7",
   "metadata": {},
   "source": [
    "### Improving the Model"
   ]
  },
  {
   "cell_type": "markdown",
   "id": "1a2200f1",
   "metadata": {},
   "source": [
    "I will add the following features, on top of the current features, to the model to see if I can get a better accuracy:\n",
    "* The number of links in the tweet.\n",
    "* The number of words in the tweet. "
   ]
  },
  {
   "cell_type": "markdown",
   "id": "48555988",
   "metadata": {},
   "source": [
    "Create `links_count` feature:"
   ]
  },
  {
   "cell_type": "code",
   "execution_count": 40,
   "id": "d894f3d1",
   "metadata": {},
   "outputs": [
    {
     "data": {
      "text/plain": [
       "1233     1\n",
       "10029    1\n",
       "3243     0\n",
       "10835    0\n",
       "6286     0\n",
       "5351     1\n",
       "11049    0\n",
       "6006     1\n",
       "4126     0\n",
       "5476     1\n",
       "Name: links_count, dtype: int64"
      ]
     },
     "execution_count": 40,
     "metadata": {},
     "output_type": "execute_result"
    }
   ],
   "source": [
    "all_tweets[\"links_count\"] = all_tweets.apply(lambda x: x[\"text\"].count(\"http\"), axis=1)\n",
    "\n",
    "all_tweets[\"links_count\"].sample(10)"
   ]
  },
  {
   "cell_type": "markdown",
   "id": "018b714a",
   "metadata": {},
   "source": [
    "Create `words_count` feature:"
   ]
  },
  {
   "cell_type": "code",
   "execution_count": 41,
   "id": "3b0118bd",
   "metadata": {},
   "outputs": [
    {
     "data": {
      "text/plain": [
       "0        26\n",
       "1        15\n",
       "2        22\n",
       "3        24\n",
       "4        24\n",
       "         ..\n",
       "11094    24\n",
       "11095     9\n",
       "11096    18\n",
       "11097    29\n",
       "11098    13\n",
       "Name: words_count, Length: 11099, dtype: int64"
      ]
     },
     "execution_count": 41,
     "metadata": {},
     "output_type": "execute_result"
    }
   ],
   "source": [
    "all_tweets[\"words_count\"] = all_tweets.apply(lambda x: len(x[\"text\"].split(\" \")), axis=1)\n",
    "\n",
    "all_tweets[\"words_count\"]"
   ]
  },
  {
   "cell_type": "markdown",
   "id": "97712d57",
   "metadata": {},
   "source": [
    "Now re-build the model with the new features:"
   ]
  },
  {
   "cell_type": "code",
   "execution_count": 51,
   "id": "1c3a8825",
   "metadata": {},
   "outputs": [
    {
     "data": {
      "text/plain": [
       "array([[ 0.6164054 , -0.02878298, -0.14483305, -0.78415588,  1.15749167],\n",
       "       [-1.64577622, -0.02886246, -0.16209787, -0.78415588, -0.73053623],\n",
       "       [ 0.6164054 , -0.02887736, -0.11566596, -0.78415588,  0.47093607],\n",
       "       ...,\n",
       "       [ 0.6164054 , -0.02918038, -0.1768776 ,  1.11738358, -0.21561953],\n",
       "       [ 0.6164054 , -0.02955792, -0.14679496, -0.78415588,  1.67240838],\n",
       "       [-1.71759151, -0.02208668,  0.0333085 , -0.78415588, -1.07381404]])"
      ]
     },
     "execution_count": 51,
     "metadata": {},
     "output_type": "execute_result"
    }
   ],
   "source": [
    "data2 = all_tweets[[\"tweet_length\", \"followers_count\", \"friends_count\", \"links_count\", \"words_count\"]]\n",
    "\n",
    "scaled_data2 = scale(data2, axis=0)\n",
    "\n",
    "scaled_data2"
   ]
  },
  {
   "cell_type": "code",
   "execution_count": 52,
   "id": "f70c0993",
   "metadata": {},
   "outputs": [],
   "source": [
    "train_data2, test_data2, train_labels2, test_labels2 = train_test_split(scaled_data2, labels, test_size = 0.2, random_state = 1)"
   ]
  },
  {
   "cell_type": "code",
   "execution_count": 56,
   "id": "7f5fb3f6",
   "metadata": {},
   "outputs": [
    {
     "data": {
      "text/plain": [
       "[0.6833333333333333,\n",
       " 0.6621621621621622,\n",
       " 0.7054054054054054,\n",
       " 0.7130630630630631,\n",
       " 0.722972972972973,\n",
       " 0.7247747747747748,\n",
       " 0.7283783783783784,\n",
       " 0.7342342342342343,\n",
       " 0.7373873873873874,\n",
       " 0.7373873873873874,\n",
       " 0.7387387387387387,\n",
       " 0.7387387387387387,\n",
       " 0.7445945945945946,\n",
       " 0.7405405405405405,\n",
       " 0.7441441441441441,\n",
       " 0.7432432432432432,\n",
       " 0.740990990990991,\n",
       " 0.7454954954954955,\n",
       " 0.740990990990991,\n",
       " 0.7400900900900901,\n",
       " 0.7405405405405405,\n",
       " 0.7378378378378379,\n",
       " 0.740990990990991,\n",
       " 0.7364864864864865,\n",
       " 0.7405405405405405,\n",
       " 0.7360360360360361,\n",
       " 0.736936936936937,\n",
       " 0.7360360360360361,\n",
       " 0.7391891891891892,\n",
       " 0.7400900900900901,\n",
       " 0.7405405405405405,\n",
       " 0.7378378378378379,\n",
       " 0.7328828828828828,\n",
       " 0.7333333333333333,\n",
       " 0.7306306306306306,\n",
       " 0.7328828828828828,\n",
       " 0.7315315315315315,\n",
       " 0.7301801801801802,\n",
       " 0.731081081081081,\n",
       " 0.7297297297297297,\n",
       " 0.731081081081081,\n",
       " 0.7324324324324324,\n",
       " 0.7324324324324324,\n",
       " 0.7351351351351352,\n",
       " 0.7342342342342343,\n",
       " 0.7337837837837838,\n",
       " 0.7333333333333333,\n",
       " 0.7351351351351352,\n",
       " 0.7378378378378379,\n",
       " 0.736936936936937,\n",
       " 0.7360360360360361,\n",
       " 0.7364864864864865,\n",
       " 0.7373873873873874,\n",
       " 0.7373873873873874,\n",
       " 0.7382882882882883,\n",
       " 0.7382882882882883,\n",
       " 0.7364864864864865,\n",
       " 0.7373873873873874,\n",
       " 0.7364864864864865,\n",
       " 0.7360360360360361,\n",
       " 0.7364864864864865,\n",
       " 0.7378378378378379,\n",
       " 0.7373873873873874,\n",
       " 0.7378378378378379,\n",
       " 0.736936936936937,\n",
       " 0.7378378378378379,\n",
       " 0.7364864864864865,\n",
       " 0.736936936936937,\n",
       " 0.7351351351351352,\n",
       " 0.7351351351351352,\n",
       " 0.7346846846846847,\n",
       " 0.7360360360360361,\n",
       " 0.7360360360360361,\n",
       " 0.7355855855855856,\n",
       " 0.7342342342342343,\n",
       " 0.7337837837837838,\n",
       " 0.7333333333333333,\n",
       " 0.7342342342342343,\n",
       " 0.7328828828828828,\n",
       " 0.7346846846846847,\n",
       " 0.7328828828828828,\n",
       " 0.7333333333333333,\n",
       " 0.7315315315315315,\n",
       " 0.7315315315315315,\n",
       " 0.7315315315315315,\n",
       " 0.7315315315315315,\n",
       " 0.7315315315315315,\n",
       " 0.7315315315315315,\n",
       " 0.7319819819819819,\n",
       " 0.7324324324324324,\n",
       " 0.731081081081081,\n",
       " 0.731081081081081,\n",
       " 0.7301801801801802,\n",
       " 0.7306306306306306,\n",
       " 0.7297297297297297,\n",
       " 0.731081081081081,\n",
       " 0.7306306306306306,\n",
       " 0.7324324324324324,\n",
       " 0.7324324324324324,\n",
       " 0.7324324324324324,\n",
       " 0.731081081081081,\n",
       " 0.7324324324324324,\n",
       " 0.7301801801801802,\n",
       " 0.7315315315315315,\n",
       " 0.7306306306306306,\n",
       " 0.731081081081081,\n",
       " 0.7315315315315315,\n",
       " 0.7306306306306306,\n",
       " 0.7292792792792793,\n",
       " 0.7301801801801802,\n",
       " 0.7288288288288288,\n",
       " 0.7288288288288288,\n",
       " 0.7274774774774775,\n",
       " 0.7279279279279279,\n",
       " 0.7261261261261261,\n",
       " 0.727027027027027,\n",
       " 0.7279279279279279,\n",
       " 0.7283783783783784,\n",
       " 0.7279279279279279,\n",
       " 0.727027027027027,\n",
       " 0.727027027027027,\n",
       " 0.7283783783783784,\n",
       " 0.7279279279279279,\n",
       " 0.7288288288288288,\n",
       " 0.7279279279279279,\n",
       " 0.7288288288288288,\n",
       " 0.7279279279279279,\n",
       " 0.7297297297297297,\n",
       " 0.7292792792792793,\n",
       " 0.7297297297297297,\n",
       " 0.7292792792792793,\n",
       " 0.7292792792792793,\n",
       " 0.7288288288288288,\n",
       " 0.7283783783783784,\n",
       " 0.7283783783783784,\n",
       " 0.7283783783783784,\n",
       " 0.7279279279279279,\n",
       " 0.7279279279279279,\n",
       " 0.7292792792792793,\n",
       " 0.7301801801801802,\n",
       " 0.7274774774774775,\n",
       " 0.727027027027027,\n",
       " 0.7279279279279279,\n",
       " 0.727027027027027,\n",
       " 0.7279279279279279,\n",
       " 0.7265765765765766,\n",
       " 0.7256756756756757,\n",
       " 0.7265765765765766,\n",
       " 0.7279279279279279,\n",
       " 0.7265765765765766,\n",
       " 0.7265765765765766,\n",
       " 0.7243243243243244,\n",
       " 0.7265765765765766,\n",
       " 0.7247747747747748,\n",
       " 0.7243243243243244,\n",
       " 0.7238738738738739,\n",
       " 0.7238738738738739,\n",
       " 0.7252252252252253,\n",
       " 0.7243243243243244,\n",
       " 0.7252252252252253,\n",
       " 0.7247747747747748,\n",
       " 0.7247747747747748,\n",
       " 0.7261261261261261,\n",
       " 0.7234234234234235,\n",
       " 0.7225225225225225,\n",
       " 0.7238738738738739,\n",
       " 0.7234234234234235,\n",
       " 0.722972972972973,\n",
       " 0.7247747747747748,\n",
       " 0.7238738738738739,\n",
       " 0.7234234234234235,\n",
       " 0.7238738738738739,\n",
       " 0.7234234234234235,\n",
       " 0.722972972972973,\n",
       " 0.722972972972973,\n",
       " 0.722972972972973,\n",
       " 0.7234234234234235,\n",
       " 0.722972972972973,\n",
       " 0.7234234234234235,\n",
       " 0.722072072072072,\n",
       " 0.722072072072072,\n",
       " 0.7225225225225225,\n",
       " 0.7211711711711711,\n",
       " 0.7216216216216216,\n",
       " 0.722072072072072,\n",
       " 0.722972972972973,\n",
       " 0.722972972972973,\n",
       " 0.7238738738738739,\n",
       " 0.7238738738738739,\n",
       " 0.7234234234234235,\n",
       " 0.7234234234234235,\n",
       " 0.7238738738738739,\n",
       " 0.722972972972973,\n",
       " 0.722972972972973,\n",
       " 0.722972972972973,\n",
       " 0.7234234234234235,\n",
       " 0.7238738738738739,\n",
       " 0.7234234234234235,\n",
       " 0.7238738738738739]"
      ]
     },
     "execution_count": 56,
     "metadata": {},
     "output_type": "execute_result"
    }
   ],
   "source": [
    "scores2 = []\n",
    "\n",
    "for k in range(1, 200):\n",
    "    classifier = KNeighborsClassifier(n_neighbors = k)\n",
    "    classifier.fit(train_data2, train_labels2)\n",
    "    scores2.append(classifier.score(test_data2, test_labels2))\n",
    "\n",
    "scores2"
   ]
  },
  {
   "cell_type": "code",
   "execution_count": 57,
   "id": "5c5e151f",
   "metadata": {},
   "outputs": [
    {
     "data": {
      "image/png": "[encoded data removed]",
      "text/plain": [
       "<Figure size 432x288 with 1 Axes>"
      ]
     },
     "metadata": {
      "needs_background": "light"
     },
     "output_type": "display_data"
    }
   ],
   "source": [
    "plt.plot(scores2)\n",
    "plt.show()"
   ]
  },
  {
   "cell_type": "code",
   "execution_count": 59,
   "id": "f9c0ceaf",
   "metadata": {},
   "outputs": [
    {
     "data": {
      "text/plain": [
       "0.7454954954954955"
      ]
     },
     "execution_count": 59,
     "metadata": {},
     "output_type": "execute_result"
    }
   ],
   "source": [
    "max(scores2)"
   ]
  },
  {
   "cell_type": "markdown",
   "id": "361edaa0",
   "metadata": {},
   "source": [
    "Great! By using the new features `links_count` and `words_count` in addition to `tweet_length`, `followers_count`, and `friends_count`, I was able to improve the accuracy from 62% to around 74%. \n"
   ]
  },
  {
   "cell_type": "markdown",
   "id": "52fe45aa",
   "metadata": {},
   "source": [
    "Thus, I will stick with the new model, with the features `tweet_length`, `followers_count`, `friends_count`, `links_count`, and `words_count`."
   ]
  }
 ],
 "metadata": {
  "kernelspec": {
   "display_name": "Python 3",
   "language": "python",
   "name": "python3"
  },
  "language_info": {
   "codemirror_mode": {
    "name": "ipython",
    "version": 3
   },
   "file_extension": ".py",
   "mimetype": "text/x-python",
   "name": "python",
   "nbconvert_exporter": "python",
   "pygments_lexer": "ipython3",
   "version": "3.8.8"
  }
 },
 "nbformat": 4,
 "nbformat_minor": 5
}
